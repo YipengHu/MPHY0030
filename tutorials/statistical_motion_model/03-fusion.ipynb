{
 "cells": [
  {
   "cell_type": "markdown",
   "metadata": {},
   "source": [
    "# Interventional Data Fusion\n",
    "Now that a model describing the prostate gland motion has been built before an intervention, it can be fitted to the data acquired during that intervention.\n",
    "<p style=\"float: left; width: 75%; margin-right: 1%;\"><img src=\"./media/Registration_mini.gif\" /></p>"
   ]
  },
  {
   "cell_type": "markdown",
   "metadata": {},
   "source": [
    "## Load saved SSM model:"
   ]
  },
  {
   "cell_type": "code",
   "execution_count": null,
   "metadata": {},
   "outputs": [],
   "source": [
    "import numpy as np\n",
    "\n",
    "smm = np.load('./data/my_smm.npz')\n",
    "print(smm.files)"
   ]
  },
  {
   "cell_type": "code",
   "execution_count": null,
   "metadata": {},
   "outputs": [],
   "source": [
    "mX = smm['arr_0']\n",
    "PCs = smm['arr_1']\n",
    "lambdas = smm['arr_2']\n",
    "print(mX.shape)\n",
    "print(PCs.shape)\n",
    "print(lambdas.shape)"
   ]
  },
  {
   "cell_type": "markdown",
   "metadata": {},
   "source": [
    "## Load the test data:\n",
    "This represents the \"intraoperative data\" available, such as the boundary points found on the prostate gland on ultrasound images."
   ]
  },
  {
   "cell_type": "code",
   "execution_count": null,
   "metadata": {},
   "outputs": [],
   "source": [
    "nodes_test = np.load('./data/nodes_test.npy')\n",
    "print(nodes_test.shape)"
   ]
  },
  {
   "cell_type": "markdown",
   "metadata": {},
   "source": [
    "## DIY\n",
    "Try to understand what the following code is doing:"
   ]
  },
  {
   "cell_type": "code",
   "execution_count": null,
   "metadata": {},
   "outputs": [],
   "source": [
    "X = np.reshape(nodes_test,[642*3,100],order='F')\n",
    "X = X - mX"
   ]
  },
  {
   "cell_type": "code",
   "execution_count": null,
   "metadata": {},
   "outputs": [],
   "source": [
    "nPCs = 5\n",
    "B = np.matmul(np.transpose(PCs[:,0:nPCs]), X)  # projection\n",
    "X_recon = np.matmul(PCs[:,0:nPCs], B)  # reconstruction\n",
    "diff = X_recon-X\n",
    "print(PCs[:,0:nPCs].shape)\n",
    "print(np.sqrt(np.mean(np.square(diff))))"
   ]
  },
  {
   "cell_type": "code",
   "execution_count": null,
   "metadata": {},
   "outputs": [],
   "source": [
    "nodes_recon = np.reshape(X_recon + mX, [642, 3, 100], order='F')"
   ]
  },
  {
   "cell_type": "code",
   "execution_count": null,
   "metadata": {},
   "outputs": [],
   "source": [
    "tris = np.load('./data/tris.npy') \n",
    "import matplotlib.pyplot as plt\n",
    "from mpl_toolkits.mplot3d import Axes3D"
   ]
  },
  {
   "cell_type": "code",
   "execution_count": null,
   "metadata": {},
   "outputs": [],
   "source": [
    "%matplotlib notebook\n",
    "fig = plt.figure()\n",
    "ax = fig.add_subplot(111, projection='3d')\n",
    "idx_shape = 10\n",
    "ax.plot_trisurf(nodes_recon[:,0,idx_shape], \n",
    "                nodes_recon[:,1,idx_shape], \n",
    "                nodes_recon[:,2,idx_shape], \n",
    "                triangles=tris, \n",
    "                cmap=plt.cm.gist_heat)"
   ]
  },
  {
   "cell_type": "markdown",
   "metadata": {},
   "source": [
    "## Noisy and missing data\n",
    "A more interesting and realistic scenario is that the full segmentation of gland surface (all the points in X) is not available, all surgeon has during the procedure are some sparse points on some of the ultrasound slices and, potentially, with manual delineation errors."
   ]
  },
  {
   "cell_type": "markdown",
   "metadata": {},
   "source": [
    "Use the following lines or similar to take out some of the points data and/or add noise to the point coordinates:"
   ]
  },
  {
   "cell_type": "code",
   "execution_count": null,
   "metadata": {},
   "outputs": [],
   "source": [
    "purge_rate = 0.5\n",
    "noise_level = 0.1\n",
    "\n",
    "num_valid = np.round(642*(1-purge_rate)).astype('int')\n",
    "idx_valid = np.random.choice(np.arange(642), size=num_valid, replace=False)\n",
    "# idx_valid = np.random.randint(0, 642, num_valid)\n",
    "X = np.reshape(nodes_test[idx_valid,:,:],[num_valid*3,100],order='F')\n",
    "X = X + np.random.normal(0,noise_level,X.shape)\n",
    "\n",
    "print(num_valid)\n",
    "print(X.shape)"
   ]
  },
  {
   "cell_type": "markdown",
   "metadata": {},
   "source": [
    "Now experiment with the \"corrupted\" data, see how much the model still functions with increasing level of noise and fewer data points. \n",
    "Hint: \n",
    "- What means \"being functional\" needs to be quantified;\n",
    "- The missing data do not have the \"right size\" for matrix multiplication any longer;\n",
    "- Visualising your fitted model and data usually helps"
   ]
  },
  {
   "cell_type": "markdown",
   "metadata": {},
   "source": [
    "footnote: this is a simplified application that, for instance, assumes known correspondence, in which you know which test point should align with a particular point in the model, an assumption does not hold in real-world application with many potential solutions such as iterative closest point algorithm or [ICP][icp].\n",
    "\n",
    "[icp]: https://en.wikipedia.org/wiki/Iterative_closest_point"
   ]
  }
 ],
 "metadata": {
  "kernelspec": {
   "display_name": "Python 3",
   "language": "python",
   "name": "python3"
  },
  "language_info": {
   "codemirror_mode": {
    "name": "ipython",
    "version": 3
   },
   "file_extension": ".py",
   "mimetype": "text/x-python",
   "name": "python",
   "nbconvert_exporter": "python",
   "pygments_lexer": "ipython3",
   "version": "3.6.4"
  }
 },
 "nbformat": 4,
 "nbformat_minor": 2
}
