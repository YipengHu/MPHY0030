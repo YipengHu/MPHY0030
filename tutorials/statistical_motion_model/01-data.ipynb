{
 "cells": [
  {
   "cell_type": "markdown",
   "metadata": {},
   "source": [
    "# Ultrasound-guided prostate intervention - biopsy\n",
    "\n",
    "<p style=\"float: left; width: 45%; margin-right: 1%;\"><img src=\"./media/transperineal_prostate_biopsy_CRUK.png\" /></p>\n",
    "<p style=\"float: left; width: 45%; margin-right: 1%;\"><img src=\"./media/TempBiopsy_1site.gif\" /></p>"
   ]
  },
  {
   "cell_type": "markdown",
   "metadata": {},
   "source": [
    "## First, load the data:"
   ]
  },
  {
   "cell_type": "code",
   "execution_count": null,
   "metadata": {},
   "outputs": [],
   "source": [
    "import numpy as np\n",
    "\n",
    "nodes_train = np.load('./data/nodes_train.npy')\n",
    "shape_train = nodes_train.shape\n",
    "print(shape_train)"
   ]
  },
  {
   "cell_type": "markdown",
   "metadata": {},
   "source": [
    "Here, nodes_train contains nodes(642)-by-coordinates(3)-by-shapes(200). \n",
    "<p style=\"float: left; width: 30%; margin-right: 1%;\"><img src=\"./media/ShapeRep_point.gif\" /></p>"
   ]
  },
  {
   "cell_type": "markdown",
   "metadata": {},
   "source": [
    "These shapes come from finite-element simulations to predict how the prostate deforms during such a procedure. The goal of this application is to summarise the variantion of motion using SMM, so it can be used in these procedures to predict where the tumours are (e.g. to assist guiding the biopsy needles to sample tissue at the right location).\n",
    "<p style=\"float: left; width: 75%; margin-right: 1%;\"><img src=\"./media/BiomechanicalSimulations_mini.gif\" /></p>"
   ]
  },
  {
   "cell_type": "markdown",
   "metadata": {},
   "source": [
    "## Plot the data for visual inspection:\n",
    "Another way to visualuse may be using surfaces and meshes.\n",
    "<p style=\"float: left; width: 30%; margin-right: 1%;\"><img src=\"./media/ShapeRep_surface.gif\" /></p>\n",
    "<p style=\"float: left; width: 30%; margin-right: 1%;\"><img src=\"./media/ShapeRep_mesh.gif\" /></p>"
   ]
  },
  {
   "cell_type": "code",
   "execution_count": null,
   "metadata": {},
   "outputs": [],
   "source": [
    "tris = np.load('./data/tris.npy')  # for creating triangle meshes\n",
    "import matplotlib.pyplot as plt\n",
    "from mpl_toolkits.mplot3d import Axes3D"
   ]
  },
  {
   "cell_type": "code",
   "execution_count": null,
   "metadata": {},
   "outputs": [],
   "source": [
    "%matplotlib notebook  \n",
    "# %matplotlib notebook enables interactive plot but needs to be called before plotting, and may only activate one interative plot at a time. \n",
    "# Use alternative %matplotlib inline in case of rendering errors\n",
    "fig = plt.figure()\n",
    "ax = fig.add_subplot(111, projection='3d')\n",
    "idx_shape = 10\n",
    "ax.plot_trisurf(nodes_train[:,0,idx_shape], \n",
    "                nodes_train[:,1,idx_shape], \n",
    "                nodes_train[:,2,idx_shape], \n",
    "                triangles=tris, \n",
    "                cmap=plt.cm.gist_heat)"
   ]
  },
  {
   "cell_type": "markdown",
   "metadata": {},
   "source": [
    "With a little further configuration adjustment, one should be able to visualise all the data in animations.\n",
    "<p style=\"float: left; width: 30%; margin-right: 1%;\"><img src=\"./media/ShapeData_points_centered.gif\" /></p>\n",
    "<p style=\"float: left; width: 30%; margin-right: 1%;\"><img src=\"./media/ShapeData_transverse_centered.gif\" /></p>\n",
    "<p style=\"float: left; width: 30%; margin-right: 1%;\"><img src=\"./media/ShapeData_profile_centered.gif\" /></p>"
   ]
  },
  {
   "cell_type": "markdown",
   "metadata": {},
   "source": [
    "footnote: these animations were produced in a previous matlab-based workshop, but matplotlib is as the same capabale."
   ]
  }
 ],
 "metadata": {
  "kernelspec": {
   "display_name": "Python 3",
   "language": "python",
   "name": "python3"
  },
  "language_info": {
   "codemirror_mode": {
    "name": "ipython",
    "version": 3
   },
   "file_extension": ".py",
   "mimetype": "text/x-python",
   "name": "python",
   "nbconvert_exporter": "python",
   "pygments_lexer": "ipython3",
   "version": "3.6.4"
  }
 },
 "nbformat": 4,
 "nbformat_minor": 2
}
